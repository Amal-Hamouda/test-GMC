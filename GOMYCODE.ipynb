{
 "cells": [
  {
   "cell_type": "code",
   "execution_count": 2,
   "id": "ac244cf7",
   "metadata": {},
   "outputs": [
    {
     "name": "stdout",
     "output_type": "stream",
     "text": [
      "z= 9\n"
     ]
    }
   ],
   "source": [
    "'hello'\n",
    "x=4\n",
    "y=5\n",
    "z=x+y\n",
    "print('z=',z)"
   ]
  },
  {
   "cell_type": "code",
   "execution_count": 5,
   "id": "6cf7b69e",
   "metadata": {},
   "outputs": [
    {
     "name": "stdout",
     "output_type": "stream",
     "text": [
      "enter your name: nanous\n"
     ]
    }
   ],
   "source": [
    "x=input('enter your name: ')"
   ]
  },
  {
   "cell_type": "code",
   "execution_count": 8,
   "id": "030dde57",
   "metadata": {},
   "outputs": [
    {
     "name": "stdout",
     "output_type": "stream",
     "text": [
      "x=44 <class 'int'>\n"
     ]
    }
   ],
   "source": [
    "x=44\n",
    "print('x=44', type(x))"
   ]
  },
  {
   "cell_type": "code",
   "execution_count": null,
   "id": "68b67efe",
   "metadata": {},
   "outputs": [],
   "source": []
  }
 ],
 "metadata": {
  "kernelspec": {
   "display_name": "Python 3",
   "language": "python",
   "name": "python3"
  },
  "language_info": {
   "codemirror_mode": {
    "name": "ipython",
    "version": 3
   },
   "file_extension": ".py",
   "mimetype": "text/x-python",
   "name": "python",
   "nbconvert_exporter": "python",
   "pygments_lexer": "ipython3",
   "version": "3.8.8"
  }
 },
 "nbformat": 4,
 "nbformat_minor": 5
}
